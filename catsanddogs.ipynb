{
 "cells": [
  {
   "cell_type": "markdown",
   "metadata": {},
   "source": [
    "Student Names and IDs:\n",
    "\n",
    "Ceylan Şentürk 161805015\n",
    "\n",
    "Kağan Çiloğlu 161805016"
   ]
  },
  {
   "cell_type": "code",
   "execution_count": 1,
   "metadata": {},
   "outputs": [
    {
     "name": "stdout",
     "output_type": "stream",
     "text": [
      "Requirement already satisfied: keras in c:\\users\\asus\\anaconda3\\lib\\site-packages (2.4.3)\n",
      "Requirement already satisfied: h5py in c:\\users\\asus\\anaconda3\\lib\\site-packages (from keras) (3.1.0)\n",
      "Requirement already satisfied: numpy>=1.9.1 in c:\\users\\asus\\anaconda3\\lib\\site-packages (from keras) (1.19.5)\n",
      "Requirement already satisfied: pyyaml in c:\\users\\asus\\anaconda3\\lib\\site-packages (from keras) (5.3)\n",
      "Requirement already satisfied: scipy>=0.14 in c:\\users\\asus\\anaconda3\\lib\\site-packages (from keras) (1.4.1)\n",
      "Requirement already satisfied: cached-property; python_version < \"3.8\" in c:\\users\\asus\\anaconda3\\lib\\site-packages (from h5py->keras) (1.5.2)\n",
      "Note: you may need to restart the kernel to use updated packages.\n"
     ]
    }
   ],
   "source": [
    "pip install keras"
   ]
  },
  {
   "cell_type": "code",
   "execution_count": 2,
   "metadata": {},
   "outputs": [
    {
     "name": "stdout",
     "output_type": "stream",
     "text": [
      "Requirement already satisfied: tensorflow in c:\\users\\asus\\anaconda3\\lib\\site-packages (2.5.0)\n",
      "Requirement already satisfied: opt-einsum~=3.3.0 in c:\\users\\asus\\anaconda3\\lib\\site-packages (from tensorflow) (3.3.0)\n",
      "Requirement already satisfied: absl-py~=0.10 in c:\\users\\asus\\anaconda3\\lib\\site-packages (from tensorflow) (0.12.0)\n",
      "Requirement already satisfied: tensorboard~=2.5 in c:\\users\\asus\\anaconda3\\lib\\site-packages (from tensorflow) (2.5.0)\n",
      "Requirement already satisfied: keras-nightly~=2.5.0.dev in c:\\users\\asus\\anaconda3\\lib\\site-packages (from tensorflow) (2.5.0.dev2021032900)\n",
      "Requirement already satisfied: astunparse~=1.6.3 in c:\\users\\asus\\anaconda3\\lib\\site-packages (from tensorflow) (1.6.3)\n",
      "Requirement already satisfied: wheel~=0.35 in c:\\users\\asus\\anaconda3\\lib\\site-packages (from tensorflow) (0.36.2)\n",
      "Requirement already satisfied: numpy~=1.19.2 in c:\\users\\asus\\anaconda3\\lib\\site-packages (from tensorflow) (1.19.5)\n",
      "Requirement already satisfied: h5py~=3.1.0 in c:\\users\\asus\\anaconda3\\lib\\site-packages (from tensorflow) (3.1.0)\n",
      "Requirement already satisfied: termcolor~=1.1.0 in c:\\users\\asus\\anaconda3\\lib\\site-packages (from tensorflow) (1.1.0)\n",
      "Requirement already satisfied: wrapt~=1.12.1 in c:\\users\\asus\\anaconda3\\lib\\site-packages (from tensorflow) (1.12.1)\n",
      "Requirement already satisfied: tensorflow-estimator<2.6.0,>=2.5.0rc0 in c:\\users\\asus\\anaconda3\\lib\\site-packages (from tensorflow) (2.5.0)\n",
      "Requirement already satisfied: google-pasta~=0.2 in c:\\users\\asus\\anaconda3\\lib\\site-packages (from tensorflow) (0.2.0)\n",
      "Requirement already satisfied: six~=1.15.0 in c:\\users\\asus\\anaconda3\\lib\\site-packages (from tensorflow) (1.15.0)\n",
      "Requirement already satisfied: typing-extensions~=3.7.4 in c:\\users\\asus\\anaconda3\\lib\\site-packages (from tensorflow) (3.7.4.3)\n",
      "Requirement already satisfied: grpcio~=1.34.0 in c:\\users\\asus\\anaconda3\\lib\\site-packages (from tensorflow) (1.34.1)\n",
      "Requirement already satisfied: protobuf>=3.9.2 in c:\\users\\asus\\anaconda3\\lib\\site-packages (from tensorflow) (3.17.1)\n",
      "Requirement already satisfied: flatbuffers~=1.12.0 in c:\\users\\asus\\anaconda3\\lib\\site-packages (from tensorflow) (1.12)\n",
      "Requirement already satisfied: keras-preprocessing~=1.1.2 in c:\\users\\asus\\anaconda3\\lib\\site-packages (from tensorflow) (1.1.2)\n",
      "Requirement already satisfied: gast==0.4.0 in c:\\users\\asus\\anaconda3\\lib\\site-packages (from tensorflow) (0.4.0)\n",
      "Requirement already satisfied: google-auth-oauthlib<0.5,>=0.4.1 in c:\\users\\asus\\anaconda3\\lib\\site-packages (from tensorboard~=2.5->tensorflow) (0.4.4)\n",
      "Requirement already satisfied: tensorboard-plugin-wit>=1.6.0 in c:\\users\\asus\\anaconda3\\lib\\site-packages (from tensorboard~=2.5->tensorflow) (1.8.0)\n",
      "Requirement already satisfied: werkzeug>=0.11.15 in c:\\users\\asus\\anaconda3\\lib\\site-packages (from tensorboard~=2.5->tensorflow) (1.0.0)\n",
      "Requirement already satisfied: setuptools>=41.0.0 in c:\\users\\asus\\anaconda3\\lib\\site-packages (from tensorboard~=2.5->tensorflow) (45.2.0.post20200210)\n",
      "Requirement already satisfied: google-auth<2,>=1.6.3 in c:\\users\\asus\\anaconda3\\lib\\site-packages (from tensorboard~=2.5->tensorflow) (1.30.1)\n",
      "Requirement already satisfied: markdown>=2.6.8 in c:\\users\\asus\\anaconda3\\lib\\site-packages (from tensorboard~=2.5->tensorflow) (3.3.4)\n",
      "Requirement already satisfied: tensorboard-data-server<0.7.0,>=0.6.0 in c:\\users\\asus\\anaconda3\\lib\\site-packages (from tensorboard~=2.5->tensorflow) (0.6.1)\n",
      "Requirement already satisfied: requests<3,>=2.21.0 in c:\\users\\asus\\anaconda3\\lib\\site-packages (from tensorboard~=2.5->tensorflow) (2.22.0)\n",
      "Requirement already satisfied: cached-property; python_version < \"3.8\" in c:\\users\\asus\\anaconda3\\lib\\site-packages (from h5py~=3.1.0->tensorflow) (1.5.2)\n",
      "Requirement already satisfied: requests-oauthlib>=0.7.0 in c:\\users\\asus\\anaconda3\\lib\\site-packages (from google-auth-oauthlib<0.5,>=0.4.1->tensorboard~=2.5->tensorflow) (1.3.0)\n",
      "Requirement already satisfied: rsa<5,>=3.1.4; python_version >= \"3.6\" in c:\\users\\asus\\anaconda3\\lib\\site-packages (from google-auth<2,>=1.6.3->tensorboard~=2.5->tensorflow) (4.7.2)\n",
      "Requirement already satisfied: cachetools<5.0,>=2.0.0 in c:\\users\\asus\\anaconda3\\lib\\site-packages (from google-auth<2,>=1.6.3->tensorboard~=2.5->tensorflow) (4.2.2)\n",
      "Requirement already satisfied: pyasn1-modules>=0.2.1 in c:\\users\\asus\\anaconda3\\lib\\site-packages (from google-auth<2,>=1.6.3->tensorboard~=2.5->tensorflow) (0.2.8)\n",
      "Requirement already satisfied: importlib-metadata; python_version < \"3.8\" in c:\\users\\asus\\anaconda3\\lib\\site-packages (from markdown>=2.6.8->tensorboard~=2.5->tensorflow) (1.5.0)\n",
      "Requirement already satisfied: urllib3!=1.25.0,!=1.25.1,<1.26,>=1.21.1 in c:\\users\\asus\\anaconda3\\lib\\site-packages (from requests<3,>=2.21.0->tensorboard~=2.5->tensorflow) (1.25.8)\n",
      "Requirement already satisfied: certifi>=2017.4.17 in c:\\users\\asus\\anaconda3\\lib\\site-packages (from requests<3,>=2.21.0->tensorboard~=2.5->tensorflow) (2019.11.28)\n",
      "Requirement already satisfied: chardet<3.1.0,>=3.0.2 in c:\\users\\asus\\anaconda3\\lib\\site-packages (from requests<3,>=2.21.0->tensorboard~=2.5->tensorflow) (3.0.4)\n",
      "Requirement already satisfied: idna<2.9,>=2.5 in c:\\users\\asus\\anaconda3\\lib\\site-packages (from requests<3,>=2.21.0->tensorboard~=2.5->tensorflow) (2.8)\n",
      "Requirement already satisfied: oauthlib>=3.0.0 in c:\\users\\asus\\anaconda3\\lib\\site-packages (from requests-oauthlib>=0.7.0->google-auth-oauthlib<0.5,>=0.4.1->tensorboard~=2.5->tensorflow) (3.1.0)\n",
      "Requirement already satisfied: pyasn1>=0.1.3 in c:\\users\\asus\\anaconda3\\lib\\site-packages (from rsa<5,>=3.1.4; python_version >= \"3.6\"->google-auth<2,>=1.6.3->tensorboard~=2.5->tensorflow) (0.4.8)\n",
      "Requirement already satisfied: zipp>=0.5 in c:\\users\\asus\\anaconda3\\lib\\site-packages (from importlib-metadata; python_version < \"3.8\"->markdown>=2.6.8->tensorboard~=2.5->tensorflow) (2.2.0)\n",
      "Note: you may need to restart the kernel to use updated packages.\n"
     ]
    }
   ],
   "source": [
    "pip install tensorflow"
   ]
  },
  {
   "cell_type": "code",
   "execution_count": 3,
   "metadata": {},
   "outputs": [
    {
     "name": "stdout",
     "output_type": "stream",
     "text": [
      "Requirement already satisfied: opencv-python in c:\\users\\asus\\anaconda3\\lib\\site-packages (4.5.2.52)\n",
      "Requirement already satisfied: numpy>=1.14.5 in c:\\users\\asus\\anaconda3\\lib\\site-packages (from opencv-python) (1.19.5)\n",
      "Note: you may need to restart the kernel to use updated packages.\n"
     ]
    }
   ],
   "source": [
    "pip install opencv-python"
   ]
  },
  {
   "cell_type": "code",
   "execution_count": 4,
   "metadata": {},
   "outputs": [],
   "source": [
    "import keras"
   ]
  },
  {
   "cell_type": "code",
   "execution_count": 5,
   "metadata": {},
   "outputs": [],
   "source": [
    "import os, shutil"
   ]
  },
  {
   "cell_type": "markdown",
   "metadata": {},
   "source": [
    "Veri setimiz kedi ve köpek fotoğraflarından oluşuyor. Kaggle link: https://www.kaggle.com/c/dogs-vs-cats/data İstendiği üzere, öncelikle feature extraction yapmadan, yalnızca dense layer'lardan oluşan modeller eğitip sonuçları değerlendirdik. Daha sonra feature extraction da kullanarak bir model eğitip önceki sonuçlarla karşılaştırdık.\n",
    "\n",
    "--------------------\n",
    "\n",
    "Our dataset consists of cat and dog photos. As requested, we first trained a model with only dense layers (without feature extraction) and evaluated the results. Then we trained a model using feature extraction and compared it with previous results."
   ]
  },
  {
   "cell_type": "markdown",
   "metadata": {},
   "source": [
    "train_dir = 'C:/Users/asus/Desktop/dogs-vs-cats-kaggle/train'\n",
    "train_cats_dir = 'C:/Users/asus/Desktop/dogs-vs-cats-kaggle/train/cats'\n",
    "train_dogs_dir = 'C:/Users/asus/Desktop/dogs-vs-cats-kaggle/train/dogs'\n",
    "validation_dir = 'C:/Users/asus/Desktop/dogs-vs-cats-kaggle/validation'\n",
    "validation_cats_dir = 'C:/Users/asus/Desktop/dogs-vs-cats-kaggle/validation/cats'\n",
    "validation_dogs_dir = 'C:/Users/asus/Desktop/dogs-vs-cats-kaggle/validation/dogs'\n",
    "test_dir = 'C:/Users/asus/Desktop/dogs-vs-cats-kaggle/test'\n",
    "test_cats_dir = 'C:/Users/asus/Desktop/dogs-vs-cats-kaggle/test/cats'\n",
    "test_dogs_dir = 'C:/Users/asus/Desktop/dogs-vs-cats-kaggle/test/dogs'"
   ]
  },
  {
   "cell_type": "markdown",
   "metadata": {},
   "source": [
    "Veri seti toplam 37500 fotoğraftan oluşuyor. Biz 25000 fotoğraf kullandık. %60 train, %20 validation, %20 test set olacak şekilde ayırdık.\n",
    "\n",
    "--------------------\n",
    "\n",
    "The dataset consists of a total of 37500 photos. We used 25000 photos. We divided it into 60% train, 20% validation, 20% test set."
   ]
  },
  {
   "cell_type": "code",
   "execution_count": 9,
   "metadata": {},
   "outputs": [
    {
     "name": "stdout",
     "output_type": "stream",
     "text": [
      "total training images: 15000\n"
     ]
    }
   ],
   "source": [
    "print('total training images:', len(os.listdir(train_cats_dir) + os.listdir(train_dogs_dir)))"
   ]
  },
  {
   "cell_type": "code",
   "execution_count": 10,
   "metadata": {},
   "outputs": [
    {
     "name": "stdout",
     "output_type": "stream",
     "text": [
      "total validation images: 5000\n"
     ]
    }
   ],
   "source": [
    "print('total validation images:', len(os.listdir(validation_cats_dir) + os.listdir(validation_dogs_dir)))"
   ]
  },
  {
   "cell_type": "code",
   "execution_count": 11,
   "metadata": {},
   "outputs": [
    {
     "name": "stdout",
     "output_type": "stream",
     "text": [
      "total test images: 5000\n"
     ]
    }
   ],
   "source": [
    "print('total test images:', len(os.listdir(test_cats_dir) + os.listdir(test_dogs_dir)))"
   ]
  },
  {
   "cell_type": "code",
   "execution_count": 26,
   "metadata": {},
   "outputs": [],
   "source": [
    "from keras import layers\n",
    "from keras import models\n",
    "from keras.layers import Dropout\n",
    "from keras import regularizers\n",
    "\n",
    "model = models.Sequential()\n",
    "model.add(layers.Flatten(input_shape=(150, 150, 3)))\n",
    "model.add(layers.Dense(256, activation='relu'))\n",
    "model.add(layers.Dense(128, activation='relu'))\n",
    "model.add(layers.Dense(64, activation='relu'))\n",
    "model.add(layers.Dense(32, activation='relu'))\n",
    "model.add(layers.Dense(1, activation='sigmoid'))"
   ]
  },
  {
   "cell_type": "markdown",
   "metadata": {},
   "source": [
    "Elimizde RGB formatında fotoğraflar var, ancak dense layer'lara enjekte edebilmek için flatten layer kullanarak one dimensional array'e çeviriyoruz.\n",
    "\n",
    "Bir çok farklı model oluşturduk; farklı sayılarda dense layer'lar, farklı oranlarda drop-out'lar ile denemeler yaptık. Weight regularization için l2 regularization kullandık. Fakat overfitting ile verimli şekilde mücadele etmeye yetmedi. Bazı durumlarda l2 ve drop-out'lar modele eklendikten sonra eğitimden hiç verim alamadık. Sonuç olarak modeli basitleştirerek epoch sayısını azaltma yoluna başvurduk.\n",
    "\n",
    "Binary classification yaptığımız için son layer'da sigmoid'i tercih ettik. Son layer'daki node sayısını 2'ye çıkarıp softmax kullanmayı da düşündük, fakat metodik olarak ne kadar uygun olacağı konusunda emin olamadık.\n",
    "\n",
    "--------------------\n",
    "\n",
    "We have photos in RGB format, but in order to inject it to the dense layers, we convert them to one dimensional array using flatten layers.\n",
    "\n",
    "We created many different models; We experimented with different numbers of dense layers and drop-outs at different rates. We used l2 regularization for weight regularization. But it wasn't enough to effectively combat overfitting. In some cases, we could not get any efficiency from the training after adding l2 and drop-outs to the model. As a result, we tried to simplifying the model and reduce the number of epochs. \n",
    "\n",
    "Since we are doing binary classification, we preferred sigmoid in the last layer. We also considered increasing the number of nodes in the last layer to 2 and using softmax, but we were not sure how convenient it would be methodically.."
   ]
  },
  {
   "cell_type": "code",
   "execution_count": 27,
   "metadata": {},
   "outputs": [
    {
     "name": "stdout",
     "output_type": "stream",
     "text": [
      "Model: \"sequential_2\"\n",
      "_________________________________________________________________\n",
      "Layer (type)                 Output Shape              Param #   \n",
      "=================================================================\n",
      "flatten_2 (Flatten)          (None, 67500)             0         \n",
      "_________________________________________________________________\n",
      "dense_14 (Dense)             (None, 256)               17280256  \n",
      "_________________________________________________________________\n",
      "dense_15 (Dense)             (None, 128)               32896     \n",
      "_________________________________________________________________\n",
      "dense_16 (Dense)             (None, 64)                8256      \n",
      "_________________________________________________________________\n",
      "dense_17 (Dense)             (None, 32)                2080      \n",
      "_________________________________________________________________\n",
      "dense_18 (Dense)             (None, 1)                 33        \n",
      "=================================================================\n",
      "Total params: 17,323,521\n",
      "Trainable params: 17,323,521\n",
      "Non-trainable params: 0\n",
      "_________________________________________________________________\n"
     ]
    }
   ],
   "source": [
    "model.summary()"
   ]
  },
  {
   "cell_type": "code",
   "execution_count": 28,
   "metadata": {},
   "outputs": [],
   "source": [
    "from keras import optimizers\n",
    "\n",
    "model.compile(loss='binary_crossentropy',\n",
    "              optimizer=optimizers.RMSprop(learning_rate=1e-4),\n",
    "              metrics=['acc'])"
   ]
  },
  {
   "cell_type": "markdown",
   "metadata": {},
   "source": [
    "Binary classification için binary_crossentropy loss func öneriliyor. Bu yüzden tercih ettik.\n",
    "\n",
    "-----------------\n",
    "\n",
    "Binary_crossentropy loss function is recommended for binary classification. That's why we chose it."
   ]
  },
  {
   "cell_type": "code",
   "execution_count": 29,
   "metadata": {},
   "outputs": [
    {
     "name": "stdout",
     "output_type": "stream",
     "text": [
      "Found 15000 images belonging to 2 classes.\n",
      "Found 5000 images belonging to 2 classes.\n"
     ]
    }
   ],
   "source": [
    "from keras.preprocessing.image import ImageDataGenerator\n",
    "\n",
    "train_datagen = ImageDataGenerator(rescale=1./255)\n",
    "test_datagen = ImageDataGenerator(rescale=1./255)\n",
    "\n",
    "train_generator = train_datagen.flow_from_directory(\n",
    "        train_dir,\n",
    "        target_size=(150, 150),\n",
    "        batch_size=15,\n",
    "        class_mode='binary')\n",
    "\n",
    "validation_generator = test_datagen.flow_from_directory(\n",
    "        validation_dir,\n",
    "        target_size=(150, 150),\n",
    "        batch_size=20,\n",
    "        class_mode='binary')"
   ]
  },
  {
   "cell_type": "code",
   "execution_count": 30,
   "metadata": {},
   "outputs": [
    {
     "name": "stdout",
     "output_type": "stream",
     "text": [
      "data batch shape: (15, 150, 150, 3)\n",
      "labels batch shape: (15,)\n"
     ]
    }
   ],
   "source": [
    "for data_batch, labels_batch in train_generator:\n",
    "    print('data batch shape:', data_batch.shape)\n",
    "    print('labels batch shape:', labels_batch.shape)\n",
    "    break"
   ]
  },
  {
   "cell_type": "markdown",
   "metadata": {},
   "source": [
    "Batch size'ı düşük tutmayı seçtik, aynı anda fazla sayıda fotoğrafı analiz etmenin verimi düşürmesinden endişe ettik. Her epoch'ta 1000 adım, her adımda 15 fotoğraf, toplam 15000 (train setimizin boyutu). Validation için 250 adım, her adımda 20 fotoğraf, toplam 5000 (validation setimizin boyutu)\n",
    "\n",
    "---------------------\n",
    "\n",
    "We chose to keep the batch size low, worried that analyzing a large number of photos at once would reduce efficiency. 1000 steps per epoch, 15 photos per step, 15000 total (the size of our train set). 250 steps for validation, 20 photos per step, 5000 total (size of our validation set)"
   ]
  },
  {
   "cell_type": "code",
   "execution_count": 31,
   "metadata": {},
   "outputs": [
    {
     "name": "stdout",
     "output_type": "stream",
     "text": [
      "Epoch 1/10\n",
      "1000/1000 [==============================] - 130s 130ms/step - loss: 0.8321 - acc: 0.5246 - val_loss: 0.7401 - val_acc: 0.5488\n",
      "Epoch 2/10\n",
      "1000/1000 [==============================] - 129s 129ms/step - loss: 0.6913 - acc: 0.5756 - val_loss: 0.6615 - val_acc: 0.6122\n",
      "Epoch 3/10\n",
      "1000/1000 [==============================] - 129s 129ms/step - loss: 0.6668 - acc: 0.6062 - val_loss: 0.6561 - val_acc: 0.6056\n",
      "Epoch 4/10\n",
      "1000/1000 [==============================] - 129s 129ms/step - loss: 0.6674 - acc: 0.5944 - val_loss: 0.6523 - val_acc: 0.6186\n",
      "Epoch 5/10\n",
      "1000/1000 [==============================] - 132s 132ms/step - loss: 0.6561 - acc: 0.6178 - val_loss: 0.6655 - val_acc: 0.6164\n",
      "Epoch 6/10\n",
      "1000/1000 [==============================] - 141s 141ms/step - loss: 0.6424 - acc: 0.6266 - val_loss: 0.6945 - val_acc: 0.5796\n",
      "Epoch 7/10\n",
      "1000/1000 [==============================] - 141s 141ms/step - loss: 0.6371 - acc: 0.6307 - val_loss: 0.6368 - val_acc: 0.6400\n",
      "Epoch 8/10\n",
      "1000/1000 [==============================] - 142s 142ms/step - loss: 0.6269 - acc: 0.6476 - val_loss: 0.6525 - val_acc: 0.6332\n",
      "Epoch 9/10\n",
      "1000/1000 [==============================] - 131s 131ms/step - loss: 0.6236 - acc: 0.6516 - val_loss: 0.6370 - val_acc: 0.6424\n",
      "Epoch 10/10\n",
      "1000/1000 [==============================] - 130s 130ms/step - loss: 0.6150 - acc: 0.6499 - val_loss: 0.6317 - val_acc: 0.6372\n"
     ]
    }
   ],
   "source": [
    "history = model.fit(\n",
    "      train_generator,\n",
    "      steps_per_epoch=1000,\n",
    "      epochs=10,\n",
    "      validation_data=validation_generator,\n",
    "      validation_steps=250)"
   ]
  },
  {
   "cell_type": "code",
   "execution_count": 32,
   "metadata": {},
   "outputs": [
    {
     "data": {
      "image/png": "[encoded data removed]",
      "text/plain": [
       "<Figure size 432x288 with 1 Axes>"
      ]
     },
     "metadata": {
      "needs_background": "light"
     },
     "output_type": "display_data"
    },
    {
     "data": {
      "image/png": "[encoded data removed]",
      "text/plain": [
       "<Figure size 432x288 with 1 Axes>"
      ]
     },
     "metadata": {
      "needs_background": "light"
     },
     "output_type": "display_data"
    }
   ],
   "source": [
    "import matplotlib.pyplot as plt\n",
    "\n",
    "acc = history.history['acc']\n",
    "val_acc = history.history['val_acc']\n",
    "loss = history.history['loss']\n",
    "val_loss = history.history['val_loss']\n",
    "\n",
    "epochs = range(len(acc))\n",
    "\n",
    "plt.plot(epochs, acc, 'bo', label='Training acc')\n",
    "plt.plot(epochs, val_acc, 'b', label='Validation acc')\n",
    "plt.title('Training and validation accuracy')\n",
    "plt.legend()\n",
    "\n",
    "plt.figure()\n",
    "\n",
    "plt.plot(epochs, loss, 'bo', label='Training loss')\n",
    "plt.plot(epochs, val_loss, 'b', label='Validation loss')\n",
    "plt.title('Training and validation loss')\n",
    "plt.legend()\n",
    "\n",
    "plt.show()"
   ]
  },
  {
   "cell_type": "markdown",
   "metadata": {},
   "source": [
    "Görüldüğü üzere, yalnızca dense layer kullanılarak eğitimden iyi verim alınamıyor. Grafik tatmin edici değil, accuracy düşük, validation değerleri noisy. Daha önce de belirtildiği gibi, overfitting'i önleme çabalarımız sonuç vermedi, hatta bazı durumlarda sistem çok az öğrenme gerçekleştirdi. Bu yüzden az epoch ile çalışıp ulaşabildiğimiz en iyi sonuca odaklandık.\n",
    "\n",
    "--------------------\n",
    "\n",
    "As can be seen, it is not easy to get good results from the training by using only the dense layers. Graphics are unsatisfactory, accuracy is low, validation values are noisy. As mentioned earlier, our efforts to prevent overfitting were unsuccessful, and in some cases the system did \"little to no\" learning. That's why we focused on the best result we could achieve by working with less epochs."
   ]
  },
  {
   "cell_type": "code",
   "execution_count": 33,
   "metadata": {},
   "outputs": [
    {
     "name": "stdout",
     "output_type": "stream",
     "text": [
      "Found 5000 images belonging to 2 classes.\n",
      "250/250 [==============================] - 76s 304ms/step - loss: 0.6457 - acc: 0.6280\n",
      "test acc: 0.628000020980835\n"
     ]
    }
   ],
   "source": [
    "test_generator = test_datagen.flow_from_directory(\n",
    "test_dir,\n",
    "target_size=(150, 150),\n",
    "batch_size=20,\n",
    "class_mode='binary')\n",
    "test_loss, test_acc = model.evaluate(test_generator, steps=250)\n",
    "print('test acc:', test_acc)"
   ]
  },
  {
   "cell_type": "markdown",
   "metadata": {},
   "source": [
    "Test sonuçları da olumlu değil. Bir sonraki modelimizde daha sağlıklı bir sonuca ulaşabilmek için CNN yapısının tüm katmanlarını uyguladık.\n",
    "\n",
    "-----------------\n",
    "\n",
    "Test results are not positive either. In our next model, we applied all layers of the CNN structure to reach a more reliable result."
   ]
  },
  {
   "cell_type": "code",
   "execution_count": 116,
   "metadata": {},
   "outputs": [],
   "source": [
    "model = models.Sequential()\n",
    "model.add(layers.Conv2D(32, (3, 3), activation='relu',\n",
    "                        input_shape=(150, 150, 3)))\n",
    "model.add(layers.MaxPooling2D((2, 2)))\n",
    "model.add(Dropout(0.2))\n",
    "model.add(layers.Conv2D(64, (3, 3), activation='relu'))\n",
    "model.add(layers.MaxPooling2D((2, 2)))\n",
    "model.add(Dropout(0.2))\n",
    "model.add(layers.Conv2D(128, (3, 3), activation='relu'))\n",
    "model.add(layers.MaxPooling2D((2, 2)))\n",
    "model.add(Dropout(0.2))\n",
    "model.add(layers.Flatten())\n",
    "model.add(layers.Dense(64, kernel_regularizer=regularizers.l2(0.001), activation='relu'))\n",
    "model.add(Dropout(0.2))\n",
    "model.add(layers.Dense(32, kernel_regularizer=regularizers.l2(0.001), activation='relu'))\n",
    "model.add(Dropout(0.2))\n",
    "model.add(layers.Dense(8, kernel_regularizer=regularizers.l2(0.001), activation='relu'))\n",
    "model.add(Dropout(0.4))\n",
    "model.add(layers.Dense(1, activation='sigmoid'))"
   ]
  },
  {
   "cell_type": "markdown",
   "metadata": {},
   "source": [
    "Feature extraction, drop-out'lar ve l2'lar ile daha işlevsel bir model oluşturduk. Farklı denemeler sonucunda, dense layer'lardaki node sayısının ve drop-out oranlarının bu şekilde olmasına karar verdik.\n",
    "\n",
    "------------------\n",
    "\n",
    "We created a more reliable model with feature extraction, drop-outs and l2's. As a result of different testings, we decided that the number of nodes in dense layers and drop-out rates should be like this."
   ]
  },
  {
   "cell_type": "code",
   "execution_count": 117,
   "metadata": {},
   "outputs": [
    {
     "name": "stdout",
     "output_type": "stream",
     "text": [
      "Model: \"sequential_22\"\n",
      "_________________________________________________________________\n",
      "Layer (type)                 Output Shape              Param #   \n",
      "=================================================================\n",
      "conv2d_65 (Conv2D)           (None, 148, 148, 32)      896       \n",
      "_________________________________________________________________\n",
      "max_pooling2d_63 (MaxPooling (None, 74, 74, 32)        0         \n",
      "_________________________________________________________________\n",
      "dropout_52 (Dropout)         (None, 74, 74, 32)        0         \n",
      "_________________________________________________________________\n",
      "conv2d_66 (Conv2D)           (None, 72, 72, 64)        18496     \n",
      "_________________________________________________________________\n",
      "max_pooling2d_64 (MaxPooling (None, 36, 36, 64)        0         \n",
      "_________________________________________________________________\n",
      "dropout_53 (Dropout)         (None, 36, 36, 64)        0         \n",
      "_________________________________________________________________\n",
      "conv2d_67 (Conv2D)           (None, 34, 34, 128)       73856     \n",
      "_________________________________________________________________\n",
      "max_pooling2d_65 (MaxPooling (None, 17, 17, 128)       0         \n",
      "_________________________________________________________________\n",
      "dropout_54 (Dropout)         (None, 17, 17, 128)       0         \n",
      "_________________________________________________________________\n",
      "flatten_19 (Flatten)         (None, 36992)             0         \n",
      "_________________________________________________________________\n",
      "dense_49 (Dense)             (None, 64)                2367552   \n",
      "_________________________________________________________________\n",
      "dropout_55 (Dropout)         (None, 64)                0         \n",
      "_________________________________________________________________\n",
      "dense_50 (Dense)             (None, 32)                2080      \n",
      "_________________________________________________________________\n",
      "dropout_56 (Dropout)         (None, 32)                0         \n",
      "_________________________________________________________________\n",
      "dense_51 (Dense)             (None, 8)                 264       \n",
      "_________________________________________________________________\n",
      "dropout_57 (Dropout)         (None, 8)                 0         \n",
      "_________________________________________________________________\n",
      "dense_52 (Dense)             (None, 1)                 9         \n",
      "=================================================================\n",
      "Total params: 2,463,153\n",
      "Trainable params: 2,463,153\n",
      "Non-trainable params: 0\n",
      "_________________________________________________________________\n"
     ]
    }
   ],
   "source": [
    "model.summary()"
   ]
  },
  {
   "cell_type": "markdown",
   "metadata": {},
   "source": [
    "Önceki modelimize göre daha az öğrenilebilir parametremiz var.\n",
    "\n",
    "--------------------------\n",
    "\n",
    "We have fewer learnable parameters than our previous model."
   ]
  },
  {
   "cell_type": "code",
   "execution_count": 118,
   "metadata": {},
   "outputs": [],
   "source": [
    "model.compile(loss='binary_crossentropy',\n",
    "              optimizer=optimizers.RMSprop(learning_rate=1e-4),\n",
    "              metrics=['acc'])"
   ]
  },
  {
   "cell_type": "code",
   "execution_count": 119,
   "metadata": {},
   "outputs": [
    {
     "name": "stdout",
     "output_type": "stream",
     "text": [
      "Found 15000 images belonging to 2 classes.\n",
      "Found 5000 images belonging to 2 classes.\n"
     ]
    }
   ],
   "source": [
    "train_datagen = ImageDataGenerator(rescale=1./255)\n",
    "test_datagen = ImageDataGenerator(rescale=1./255)\n",
    "\n",
    "train_generator = train_datagen.flow_from_directory(\n",
    "        train_dir,\n",
    "        target_size=(150, 150),\n",
    "        batch_size=15,\n",
    "        class_mode='binary')\n",
    "\n",
    "validation_generator = test_datagen.flow_from_directory(\n",
    "        validation_dir,\n",
    "        target_size=(150, 150),\n",
    "        batch_size=20,\n",
    "        class_mode='binary')"
   ]
  },
  {
   "cell_type": "code",
   "execution_count": 120,
   "metadata": {},
   "outputs": [
    {
     "name": "stdout",
     "output_type": "stream",
     "text": [
      "data batch shape: (15, 150, 150, 3)\n",
      "labels batch shape: (15,)\n"
     ]
    }
   ],
   "source": [
    "for data_batch, labels_batch in train_generator:\n",
    "    print('data batch shape:', data_batch.shape)\n",
    "    print('labels batch shape:', labels_batch.shape)\n",
    "    break"
   ]
  },
  {
   "cell_type": "code",
   "execution_count": 121,
   "metadata": {},
   "outputs": [
    {
     "name": "stdout",
     "output_type": "stream",
     "text": [
      "Epoch 1/30\n",
      "1000/1000 [==============================] - 339s 337ms/step - loss: 0.7872 - acc: 0.5067 - val_loss: 0.7052 - val_acc: 0.6002\n",
      "Epoch 2/30\n",
      "1000/1000 [==============================] - 341s 341ms/step - loss: 0.6913 - acc: 0.5759 - val_loss: 0.6290 - val_acc: 0.6606\n",
      "Epoch 3/30\n",
      "1000/1000 [==============================] - 353s 353ms/step - loss: 0.6376 - acc: 0.6556 - val_loss: 0.5872 - val_acc: 0.7038\n",
      "Epoch 4/30\n",
      "1000/1000 [==============================] - 350s 350ms/step - loss: 0.6109 - acc: 0.6838 - val_loss: 0.5709 - val_acc: 0.7210\n",
      "Epoch 5/30\n",
      "1000/1000 [==============================] - 347s 347ms/step - loss: 0.5936 - acc: 0.7036 - val_loss: 0.5528 - val_acc: 0.7342\n",
      "Epoch 6/30\n",
      "1000/1000 [==============================] - 351s 351ms/step - loss: 0.5956 - acc: 0.7099 - val_loss: 0.5629 - val_acc: 0.7232\n",
      "Epoch 7/30\n",
      "1000/1000 [==============================] - 348s 348ms/step - loss: 0.5732 - acc: 0.7348 - val_loss: 0.5716 - val_acc: 0.7228\n",
      "Epoch 8/30\n",
      "1000/1000 [==============================] - 349s 349ms/step - loss: 0.5737 - acc: 0.7376 - val_loss: 0.5306 - val_acc: 0.7546\n",
      "Epoch 9/30\n",
      "1000/1000 [==============================] - 348s 348ms/step - loss: 0.5482 - acc: 0.7629 - val_loss: 0.5223 - val_acc: 0.7740\n",
      "Epoch 10/30\n",
      "1000/1000 [==============================] - 351s 351ms/step - loss: 0.5368 - acc: 0.7647 - val_loss: 0.5197 - val_acc: 0.7708\n",
      "Epoch 11/30\n",
      "1000/1000 [==============================] - 350s 350ms/step - loss: 0.5326 - acc: 0.7676 - val_loss: 0.4984 - val_acc: 0.7872\n",
      "Epoch 12/30\n",
      "1000/1000 [==============================] - 350s 350ms/step - loss: 0.5058 - acc: 0.7921 - val_loss: 0.4999 - val_acc: 0.7916\n",
      "Epoch 13/30\n",
      "1000/1000 [==============================] - 351s 351ms/step - loss: 0.5091 - acc: 0.7860 - val_loss: 0.5011 - val_acc: 0.7854\n",
      "Epoch 14/30\n",
      "1000/1000 [==============================] - 350s 350ms/step - loss: 0.5012 - acc: 0.7973 - val_loss: 0.4914 - val_acc: 0.7910\n",
      "Epoch 15/30\n",
      "1000/1000 [==============================] - 350s 350ms/step - loss: 0.5091 - acc: 0.8020 - val_loss: 0.4913 - val_acc: 0.7946\n",
      "Epoch 16/30\n",
      "1000/1000 [==============================] - 350s 350ms/step - loss: 0.4864 - acc: 0.8076 - val_loss: 0.5124 - val_acc: 0.8062\n",
      "Epoch 17/30\n",
      "1000/1000 [==============================] - 349s 349ms/step - loss: 0.4843 - acc: 0.8141 - val_loss: 0.4993 - val_acc: 0.7892\n",
      "Epoch 18/30\n",
      "1000/1000 [==============================] - 351s 351ms/step - loss: 0.4929 - acc: 0.8062 - val_loss: 0.5105 - val_acc: 0.8018\n",
      "Epoch 19/30\n",
      "1000/1000 [==============================] - 352s 352ms/step - loss: 0.4809 - acc: 0.8168 - val_loss: 0.5108 - val_acc: 0.7850\n",
      "Epoch 20/30\n",
      "1000/1000 [==============================] - 349s 349ms/step - loss: 0.4822 - acc: 0.8125 - val_loss: 0.4760 - val_acc: 0.8084\n",
      "Epoch 21/30\n",
      "1000/1000 [==============================] - 354s 354ms/step - loss: 0.4696 - acc: 0.8235 - val_loss: 0.4752 - val_acc: 0.8084\n",
      "Epoch 22/30\n",
      "1000/1000 [==============================] - 351s 351ms/step - loss: 0.4742 - acc: 0.8198 - val_loss: 0.4605 - val_acc: 0.8138\n",
      "Epoch 23/30\n",
      "1000/1000 [==============================] - 351s 351ms/step - loss: 0.4695 - acc: 0.8207 - val_loss: 0.4812 - val_acc: 0.8052\n",
      "Epoch 24/30\n",
      "1000/1000 [==============================] - 344s 344ms/step - loss: 0.4643 - acc: 0.8242 - val_loss: 0.4763 - val_acc: 0.8120\n",
      "Epoch 25/30\n",
      "1000/1000 [==============================] - 367s 367ms/step - loss: 0.4720 - acc: 0.8215 - val_loss: 0.4531 - val_acc: 0.8260\n",
      "Epoch 26/30\n",
      "1000/1000 [==============================] - 376s 376ms/step - loss: 0.4646 - acc: 0.8326 - val_loss: 0.5226 - val_acc: 0.7736\n",
      "Epoch 27/30\n",
      "1000/1000 [==============================] - 373s 373ms/step - loss: 0.4526 - acc: 0.8335 - val_loss: 0.4799 - val_acc: 0.8194\n",
      "Epoch 28/30\n",
      "1000/1000 [==============================] - 349s 349ms/step - loss: 0.4506 - acc: 0.8371 - val_loss: 0.5064 - val_acc: 0.7820\n",
      "Epoch 29/30\n",
      "1000/1000 [==============================] - 377s 377ms/step - loss: 0.4613 - acc: 0.8332 - val_loss: 0.4773 - val_acc: 0.8210\n",
      "Epoch 30/30\n",
      "1000/1000 [==============================] - 365s 365ms/step - loss: 0.4410 - acc: 0.8409 - val_loss: 0.4505 - val_acc: 0.8340\n"
     ]
    }
   ],
   "source": [
    "history = model.fit(\n",
    "      train_generator,\n",
    "      steps_per_epoch=1000,\n",
    "      epochs=30,\n",
    "      validation_data=validation_generator,\n",
    "      validation_steps=250)"
   ]
  },
  {
   "cell_type": "code",
   "execution_count": 122,
   "metadata": {},
   "outputs": [
    {
     "data": {
      "image/png": "[encoded data removed]",
      "text/plain": [
       "<Figure size 432x288 with 1 Axes>"
      ]
     },
     "metadata": {
      "needs_background": "light"
     },
     "output_type": "display_data"
    },
    {
     "data": {
      "image/png": "[encoded data removed]",
      "text/plain": [
       "<Figure size 432x288 with 1 Axes>"
      ]
     },
     "metadata": {
      "needs_background": "light"
     },
     "output_type": "display_data"
    }
   ],
   "source": [
    "acc = history.history['acc']\n",
    "val_acc = history.history['val_acc']\n",
    "loss = history.history['loss']\n",
    "val_loss = history.history['val_loss']\n",
    "\n",
    "epochs = range(len(acc))\n",
    "\n",
    "plt.plot(epochs, acc, 'bo', label='Training acc')\n",
    "plt.plot(epochs, val_acc, 'b', label='Validation acc')\n",
    "plt.title('Training and validation accuracy')\n",
    "plt.legend()\n",
    "\n",
    "plt.figure()\n",
    "\n",
    "plt.plot(epochs, loss, 'bo', label='Training loss')\n",
    "plt.plot(epochs, val_loss, 'b', label='Validation loss')\n",
    "plt.title('Training and validation loss')\n",
    "plt.legend()\n",
    "\n",
    "plt.show()"
   ]
  },
  {
   "cell_type": "markdown",
   "metadata": {},
   "source": [
    "Grafiklere bakacak olursak overfitting yapmıyoruz. Validation loss değerleri noisy olmasına rağmen büyük bir problem oluşturmuyor. Accuracy değerlerimiz önceki modele göre çok yükseldi.\n",
    "\n",
    "----------------\n",
    "\n",
    "If we look at the graphics, we are not overfitting. Although validation loss values are noisy, they are not a big problem. Our Accuracy values are much higher than the previous model."
   ]
  },
  {
   "cell_type": "code",
   "execution_count": 123,
   "metadata": {},
   "outputs": [
    {
     "name": "stdout",
     "output_type": "stream",
     "text": [
      "Found 5000 images belonging to 2 classes.\n",
      "250/250 [==============================] - 28s 111ms/step - loss: 0.4457 - acc: 0.8338\n",
      "test acc: 0.8338000178337097\n"
     ]
    }
   ],
   "source": [
    "test_generator = test_datagen.flow_from_directory(\n",
    "test_dir,\n",
    "target_size=(150, 150),\n",
    "batch_size=20,\n",
    "class_mode='binary')\n",
    "test_loss, test_acc = model.evaluate(test_generator, steps=250)\n",
    "print('test acc:', test_acc)"
   ]
  },
  {
   "cell_type": "markdown",
   "metadata": {},
   "source": [
    "Başarı oranımız %83 dolaylarında. Daha küçük bir network kullanarak daha başarılı bir sonuç elde ettik.\n",
    "\n",
    "-------------------------\n",
    "\n",
    "Our success rate is around 83%. We achieved a more successful result with using a smaller network."
   ]
  },
  {
   "cell_type": "code",
   "execution_count": null,
   "metadata": {},
   "outputs": [],
   "source": []
  }
 ],
 "metadata": {
  "kernelspec": {
   "display_name": "Python 3",
   "language": "python",
   "name": "python3"
  },
  "language_info": {
   "codemirror_mode": {
    "name": "ipython",
    "version": 3
   },
   "file_extension": ".py",
   "mimetype": "text/x-python",
   "name": "python",
   "nbconvert_exporter": "python",
   "pygments_lexer": "ipython3",
   "version": "3.7.6"
  }
 },
 "nbformat": 4,
 "nbformat_minor": 4
}
